{
 "cells": [
  {
   "cell_type": "code",
   "execution_count": 11,
   "metadata": {},
   "outputs": [],
   "source": [
    "import cv2\n",
    "import numpy as np\n",
    "import os\n",
    "import re\n",
    "import tqdm as tqdm\n",
    "import matplotlib.pyplot as plt\n",
    "\n",
    "from keras.layers import Dense, BatchNormalization, Flatten, Conv2D\n",
    "from keras.layers import MaxPooling2D, Dropout\n",
    "from keras.models import load_model, Sequential\n",
    "from keras.optimizers import Adam\n",
    "\n",
    "TRAIN_DIR = 'train/'\n",
    "TEST_DIR = 'test/'\n",
    "IMG_SIZE = 100"
   ]
  },
  {
   "cell_type": "code",
   "execution_count": 12,
   "metadata": {},
   "outputs": [],
   "source": [
    "def label_img(img):\n",
    "    img_class = re.split(\"[_.]\", img)[1]\n",
    "    \n",
    "    a = [0 for j in range(3)]\n",
    "    \n",
    "    a[int(img_class)-1] = 1\n",
    "    \n",
    "    return a"
   ]
  },
  {
   "cell_type": "code",
   "execution_count": 13,
   "metadata": {},
   "outputs": [],
   "source": [
    "def create_train():\n",
    "    train = []\n",
    "    for img in os.listdir(TRAIN_DIR):\n",
    "        label = label_img(img)\n",
    "        path = os.path.join(TRAIN_DIR, img)\n",
    "        image = cv2.imread(path, cv2.COLOR_BGR2GRAY)\n",
    "        image = cv2.resize(image, (IMG_SIZE, IMG_SIZE))\n",
    "        train.append([image, np.array(label)])\n",
    "    np.save(\"train.npy\", train)\n",
    "    return train"
   ]
  },
  {
   "cell_type": "code",
   "execution_count": 14,
   "metadata": {},
   "outputs": [
    {
     "name": "stdout",
     "output_type": "stream",
     "text": [
      "[[0 0 0 ... 0 0 0]\n",
      " [0 0 0 ... 0 0 0]\n",
      " [0 0 0 ... 0 0 0]\n",
      " ...\n",
      " [0 0 0 ... 0 0 0]\n",
      " [0 0 0 ... 0 0 0]\n",
      " [0 0 0 ... 0 0 0]]\n"
     ]
    },
    {
     "data": {
      "text/plain": [
       "<matplotlib.image.AxesImage at 0x25b6fdfbd30>"
      ]
     },
     "execution_count": 14,
     "metadata": {},
     "output_type": "execute_result"
    },
    {
     "data": {
      "image/png": "[encoded data removed]",
      "text/plain": [
       "<Figure size 432x288 with 1 Axes>"
      ]
     },
     "metadata": {
      "needs_background": "light"
     },
     "output_type": "display_data"
    }
   ],
   "source": [
    "train = create_train()\n",
    "# train = np.load(\"train.npy\", allow_pickle=True)\n",
    "print(train[0][0])\n",
    "plt.imshow(train[0][0])"
   ]
  },
  {
   "cell_type": "code",
   "execution_count": 15,
   "metadata": {},
   "outputs": [],
   "source": [
    "def create_test():\n",
    "    test = []\n",
    "    for img in os.listdir(TEST_DIR):\n",
    "        label = label_img(img)\n",
    "        path = os.path.join(TEST_DIR, img)\n",
    "        image = cv2.imread(path, cv2.COLOR_BGR2GRAY)\n",
    "        image = cv2.resize(image, (IMG_SIZE, IMG_SIZE))\n",
    "        test.append([image, np.array(label)])\n",
    "    np.save(\"test.npy\", test)\n",
    "    return test"
   ]
  },
  {
   "cell_type": "code",
   "execution_count": 16,
   "metadata": {},
   "outputs": [
    {
     "name": "stdout",
     "output_type": "stream",
     "text": [
      "[[0 0 0 ... 0 0 0]\n",
      " [0 0 0 ... 0 0 0]\n",
      " [0 0 0 ... 0 0 0]\n",
      " ...\n",
      " [0 0 0 ... 0 0 0]\n",
      " [0 0 0 ... 0 0 0]\n",
      " [0 0 0 ... 0 0 0]]\n"
     ]
    },
    {
     "data": {
      "text/plain": [
       "<matplotlib.image.AxesImage at 0x25b6fe55ac8>"
      ]
     },
     "execution_count": 16,
     "metadata": {},
     "output_type": "execute_result"
    },
    {
     "data": {
      "image/png": "[encoded data removed]",
      "text/plain": [
       "<Figure size 432x288 with 1 Axes>"
      ]
     },
     "metadata": {
      "needs_background": "light"
     },
     "output_type": "display_data"
    }
   ],
   "source": [
    "test = create_test()\n",
    "# train = np.load(\"train.npy\", allow_pickle=True)\n",
    "print(test[0][0])\n",
    "plt.imshow(test[0][0])"
   ]
  },
  {
   "cell_type": "code",
   "execution_count": 17,
   "metadata": {},
   "outputs": [],
   "source": [
    "train_X_list = []\n",
    "train_Y_list = []\n",
    "test_X_list = []\n",
    "test_Y_list = []\n",
    "\n",
    "for i in range(len(train)):\n",
    "    train_X_list.append(train[i][0].reshape(IMG_SIZE, IMG_SIZE, 1))\n",
    "    train_Y_list.append(train[i][1])\n",
    "\n",
    "for i in range(len(test)):\n",
    "    test_X_list.append(test[i][0].reshape(IMG_SIZE, IMG_SIZE, 1))\n",
    "    test_Y_list.append(test[i][1])\n",
    "    \n",
    "train_X = np.array(train_X_list)\n",
    "train_Y = np.array(train_Y_list)\n",
    "test_X = np.array(test_X_list)\n",
    "test_Y = np.array(test_Y_list)\n",
    "\n",
    "input_shape = (IMG_SIZE, IMG_SIZE, 1)"
   ]
  },
  {
   "cell_type": "code",
   "execution_count": 18,
   "metadata": {},
   "outputs": [],
   "source": [
    "model = Sequential()\n",
    "\n",
    "model.add(Conv2D(64, kernel_size=(3,3), input_shape=input_shape))\n",
    "model.add(MaxPooling2D(pool_size=(2,2)))\n",
    "model.add(Conv2D(32, kernel_size=(3,3), input_shape=input_shape))\n",
    "model.add(MaxPooling2D(pool_size=(2,2)))\n",
    "model.add(Conv2D(16, kernel_size=(3,3), input_shape=input_shape))\n",
    "model.add(MaxPooling2D(pool_size=(2,2)))\n",
    "model.add(Flatten())\n",
    "model.add(Dense(100, activation=\"relu\"))\n",
    "model.add(Dropout(0.5))\n",
    "model.add(Dense(3, activation=\"softmax\"))\n",
    "\n",
    "optimizer = Adam(lr=0.0001)\n",
    "\n",
    "model.compile(optimizer=optimizer, loss=\"categorical_crossentropy\", metrics=['accuracy'])"
   ]
  },
  {
   "cell_type": "code",
   "execution_count": 19,
   "metadata": {},
   "outputs": [
    {
     "name": "stdout",
     "output_type": "stream",
     "text": [
      "_________________________________________________________________\n",
      "Layer (type)                 Output Shape              Param #   \n",
      "=================================================================\n",
      "conv2d_4 (Conv2D)            (None, 98, 98, 64)        640       \n",
      "_________________________________________________________________\n",
      "max_pooling2d_4 (MaxPooling2 (None, 49, 49, 64)        0         \n",
      "_________________________________________________________________\n",
      "conv2d_5 (Conv2D)            (None, 47, 47, 32)        18464     \n",
      "_________________________________________________________________\n",
      "max_pooling2d_5 (MaxPooling2 (None, 23, 23, 32)        0         \n",
      "_________________________________________________________________\n",
      "conv2d_6 (Conv2D)            (None, 21, 21, 16)        4624      \n",
      "_________________________________________________________________\n",
      "max_pooling2d_6 (MaxPooling2 (None, 10, 10, 16)        0         \n",
      "_________________________________________________________________\n",
      "flatten_2 (Flatten)          (None, 1600)              0         \n",
      "_________________________________________________________________\n",
      "dense_3 (Dense)              (None, 100)               160100    \n",
      "_________________________________________________________________\n",
      "dropout_2 (Dropout)          (None, 100)               0         \n",
      "_________________________________________________________________\n",
      "dense_4 (Dense)              (None, 3)                 303       \n",
      "=================================================================\n",
      "Total params: 184,131\n",
      "Trainable params: 184,131\n",
      "Non-trainable params: 0\n",
      "_________________________________________________________________\n"
     ]
    }
   ],
   "source": [
    "model.summary()"
   ]
  },
  {
   "cell_type": "code",
   "execution_count": 21,
   "metadata": {},
   "outputs": [
    {
     "name": "stdout",
     "output_type": "stream",
     "text": [
      "Train on 240 samples, validate on 60 samples\n",
      "Epoch 1/10\n",
      " - 0s - loss: 0.2263 - acc: 0.9917 - val_loss: 0.1976 - val_acc: 0.9833\n",
      "Epoch 2/10\n",
      " - 0s - loss: 0.1925 - acc: 0.9875 - val_loss: 0.1485 - val_acc: 1.0000\n",
      "Epoch 3/10\n",
      " - 0s - loss: 0.1720 - acc: 0.9875 - val_loss: 0.1234 - val_acc: 1.0000\n",
      "Epoch 4/10\n",
      " - 0s - loss: 0.1564 - acc: 0.9875 - val_loss: 0.1092 - val_acc: 1.0000\n",
      "Epoch 5/10\n",
      " - 0s - loss: 0.2140 - acc: 0.9833 - val_loss: 0.1094 - val_acc: 0.9833\n",
      "Epoch 6/10\n",
      " - 0s - loss: 0.0927 - acc: 0.9958 - val_loss: 0.0746 - val_acc: 1.0000\n",
      "Epoch 7/10\n",
      " - 0s - loss: 0.0928 - acc: 0.9792 - val_loss: 0.0524 - val_acc: 1.0000\n",
      "Epoch 8/10\n",
      " - 0s - loss: 0.0593 - acc: 1.0000 - val_loss: 0.0408 - val_acc: 1.0000\n",
      "Epoch 9/10\n",
      " - 0s - loss: 0.0852 - acc: 0.9958 - val_loss: 0.0336 - val_acc: 1.0000\n",
      "Epoch 10/10\n",
      " - 0s - loss: 0.0579 - acc: 0.9958 - val_loss: 0.0281 - val_acc: 1.0000\n"
     ]
    },
    {
     "data": {
      "text/plain": [
       "<keras.callbacks.History at 0x25b6fb02470>"
      ]
     },
     "execution_count": 21,
     "metadata": {},
     "output_type": "execute_result"
    }
   ],
   "source": [
    "model.fit(train_X, train_Y, epochs=10, validation_data=(test_X, test_Y), verbose=2)"
   ]
  },
  {
   "cell_type": "code",
   "execution_count": 22,
   "metadata": {},
   "outputs": [],
   "source": [
    "model.save(\"hand_model.h5\")"
   ]
  },
  {
   "cell_type": "code",
   "execution_count": 65,
   "metadata": {},
   "outputs": [],
   "source": [
    "pred = model.predict(test[0][0].reshape(1,IMG_SIZE,IMG_SIZE,1))"
   ]
  },
  {
   "cell_type": "code",
   "execution_count": 64,
   "metadata": {},
   "outputs": [
    {
     "name": "stdout",
     "output_type": "stream",
     "text": [
      "[[9.9996865e-01 6.0755210e-06 6.4091694e-08 3.9369447e-10 3.9371891e-08\n",
      "  6.9994370e-09 2.2768449e-05 2.1337744e-06 1.0692412e-07 8.2959964e-08]]\n"
     ]
    }
   ],
   "source": [
    "print(pred)"
   ]
  },
  {
   "cell_type": "code",
   "execution_count": null,
   "metadata": {},
   "outputs": [],
   "source": []
  }
 ],
 "metadata": {
  "kernelspec": {
   "display_name": "Python 3",
   "language": "python",
   "name": "python3"
  },
  "language_info": {
   "codemirror_mode": {
    "name": "ipython",
    "version": 3
   },
   "file_extension": ".py",
   "mimetype": "text/x-python",
   "name": "python",
   "nbconvert_exporter": "python",
   "pygments_lexer": "ipython3",
   "version": "3.6.8"
  }
 },
 "nbformat": 4,
 "nbformat_minor": 2
}
